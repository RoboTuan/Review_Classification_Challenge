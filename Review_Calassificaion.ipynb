{
 "cells": [
  {
   "cell_type": "markdown",
   "metadata": {},
   "source": [
    "### Import libraries"
   ]
  },
  {
   "cell_type": "code",
   "execution_count": 5,
   "metadata": {},
   "outputs": [],
   "source": [
    "# Numeric\n",
    "import numpy as np\n",
    "import pandas as pd\n",
    "\n",
    "\n",
    "# Tools\n",
    "import os, sys\n",
    "import re\n",
    "import string\n",
    "import csv\n",
    "import itertools\n",
    "\n",
    "\n",
    "# Natural language processing\n",
    "import spacy\n",
    "\n",
    "from nltk.tokenize import word_tokenize\n",
    "from nltk.stem.wordnet import WordNetLemmatizer\n",
    "from nltk.stem import PorterStemmer\n",
    "from nltk.corpus import stopwords as sw\n",
    "from nltk.stem.snowball import SnowballStemmer\n",
    "\n",
    "\n",
    "# Preprocessing and Features engineering\n",
    "from sklearn.preprocessing import StandardScaler\n",
    "from sklearn.preprocessing import MinMaxScaler\n",
    "from sklearn.preprocessing import MaxAbsScaler\n",
    "\n",
    "from sklearn.feature_extraction.text import TfidfVectorizer\n",
    "from sklearn.decomposition import TruncatedSVD\n",
    "from sklearn.decomposition import PCA\n",
    "from sklearn.feature_selection import chi2\n",
    "\n",
    "\n",
    "\n",
    "# Clustering\n",
    "from sklearn.cluster import KMeans, DBSCAN, AgglomerativeClustering\n",
    "\n",
    "\n",
    "\n",
    "# Classifiers\n",
    "from sklearn.model_selection import GridSearchCV\n",
    "from sklearn.ensemble import RandomForestClassifier\n",
    "from sklearn.linear_model import LogisticRegression\n",
    "from sklearn.svm import SVC\n",
    "from sklearn.naive_bayes import MultinomialNB\n",
    "from sklearn.naive_bayes import ComplementNB\n",
    "from sklearn.neighbors import NearestNeighbors\n",
    "from sklearn.pipeline import make_pipeline\n",
    "\n",
    "\n",
    "\n",
    "# Metrics\n",
    "from sklearn.metrics import f1_score\n",
    "from sklearn.metrics import confusion_matrix\n",
    "\n",
    "from sklearn.model_selection import cross_val_predict\n",
    "from sklearn.model_selection import cross_val_score\n",
    "\n",
    "\n",
    "# Visualization\n",
    "from sklearn.manifold import TSNE\n",
    "import matplotlib.pyplot as plt\n",
    "%matplotlib inline\n",
    "\n"
   ]
  },
  {
   "cell_type": "markdown",
   "metadata": {},
   "source": [
    "### Some utility functions"
   ]
  },
  {
   "cell_type": "code",
   "execution_count": 23,
   "metadata": {},
   "outputs": [],
   "source": [
    "def print_f1score(scores):\n",
    "    \"\"\"Pritn the evaluated f1scores, their mean and standard deviation.\"\"\"\n",
    "    print(f\"Weighted-f1 for each iteration: {scores}\")\n",
    "    mean_weighted_f1 = scores.mean()\n",
    "    std_weighted_f1 = scores.std() * 2\n",
    "    print(f\"Weighted-f1 (statistics): {mean_weighted_f1:.3f} (+/- {std_weighted_f1:.3f})\")"
   ]
  },
  {
   "cell_type": "code",
   "execution_count": 22,
   "metadata": {},
   "outputs": [],
   "source": [
    "def write_to_file(filename, labels):\n",
    "    \"\"\"Write the evaluated labels to a CSV file.\"\"\"\n",
    "    with open(filename, mode='w', encoding='UTF-8') as f:\n",
    "        fwriter = csv.writer(f, delimiter=',', quotechar='\"', quoting=csv.QUOTE_MINIMAL)\n",
    "        fwriter.writerow([\"Id\", \"Predicted\"])\n",
    "        for Id, label in enumerate(labels):\n",
    "            fwriter.writerow([Id, label])"
   ]
  },
  {
   "cell_type": "markdown",
   "metadata": {},
   "source": [
    "### Read data"
   ]
  },
  {
   "cell_type": "code",
   "execution_count": 19,
   "metadata": {},
   "outputs": [
    {
     "name": "stdout",
     "output_type": "stream",
     "text": [
      "28754\n"
     ]
    },
    {
     "data": {
      "text/html": [
       "<div>\n",
       "<style scoped>\n",
       "    .dataframe tbody tr th:only-of-type {\n",
       "        vertical-align: middle;\n",
       "    }\n",
       "\n",
       "    .dataframe tbody tr th {\n",
       "        vertical-align: top;\n",
       "    }\n",
       "\n",
       "    .dataframe thead th {\n",
       "        text-align: right;\n",
       "    }\n",
       "</style>\n",
       "<table border=\"1\" class=\"dataframe\">\n",
       "  <thead>\n",
       "    <tr style=\"text-align: right;\">\n",
       "      <th></th>\n",
       "      <th>text</th>\n",
       "      <th>class</th>\n",
       "    </tr>\n",
       "  </thead>\n",
       "  <tbody>\n",
       "    <tr>\n",
       "      <td>0</td>\n",
       "      <td>Non è l'hotel più lussuoso in cui abbia mai so...</td>\n",
       "      <td>pos</td>\n",
       "    </tr>\n",
       "    <tr>\n",
       "      <td>1</td>\n",
       "      <td>Siamo stati qui per 1 notte prima della nostra...</td>\n",
       "      <td>pos</td>\n",
       "    </tr>\n",
       "    <tr>\n",
       "      <td>2</td>\n",
       "      <td>Hotel è ben posizionato per visitare Torino. A...</td>\n",
       "      <td>pos</td>\n",
       "    </tr>\n",
       "    <tr>\n",
       "      <td>3</td>\n",
       "      <td>All'arrivo la cordialità e disponibilità dello...</td>\n",
       "      <td>pos</td>\n",
       "    </tr>\n",
       "    <tr>\n",
       "      <td>4</td>\n",
       "      <td>Abbiamo soggiornato per due notti alla fine de...</td>\n",
       "      <td>pos</td>\n",
       "    </tr>\n",
       "  </tbody>\n",
       "</table>\n",
       "</div>"
      ],
      "text/plain": [
       "                                                text class\n",
       "0  Non è l'hotel più lussuoso in cui abbia mai so...   pos\n",
       "1  Siamo stati qui per 1 notte prima della nostra...   pos\n",
       "2  Hotel è ben posizionato per visitare Torino. A...   pos\n",
       "3  All'arrivo la cordialità e disponibilità dello...   pos\n",
       "4  Abbiamo soggiornato per due notti alla fine de...   pos"
      ]
     },
     "execution_count": 19,
     "metadata": {},
     "output_type": "execute_result"
    }
   ],
   "source": [
    "directory = \"/Users/lpdef/Desktop/Polito/Data Science lab process and methods/Final Exam/dataset_winter_2020/\"\n",
    "dataset = pd.read_csv(directory + \"development.csv\")\n",
    "testset = pd.read_csv(directory + \"evaluation.csv\")\n",
    "\n",
    "print(dataset.iloc[:,0].size)\n",
    "dataset.head()"
   ]
  },
  {
   "cell_type": "code",
   "execution_count": 20,
   "metadata": {},
   "outputs": [],
   "source": [
    "X_train = dataset.iloc[:,0]\n",
    "y_train = dataset.iloc[:, 1]"
   ]
  },
  {
   "cell_type": "markdown",
   "metadata": {},
   "source": [
    "### Features engineering"
   ]
  },
  {
   "cell_type": "code",
   "execution_count": 8,
   "metadata": {},
   "outputs": [],
   "source": [
    "nlp = spacy.load(\"it_core_news_sm\", disable=[\"ner\", \"parser\", \"tagger\", \"textcat\"])\n",
    "# spacy_stopWords = spacy.lang.it.stop_words.STOP_WORDS"
   ]
  },
  {
   "cell_type": "code",
   "execution_count": 10,
   "metadata": {},
   "outputs": [],
   "source": [
    "class LemmaTokenizer(object):\n",
    "    \n",
    "    def __init__(self):\n",
    "        self.lemmatizer = nlp\n",
    "        self.Porter_Stemmer = SnowballStemmer(\"italian\")\n",
    "        \n",
    "        \n",
    "    def __call__(self, document):\n",
    "        lemmas = []\n",
    "        re_digit = re.compile(\"[0-9]\")\n",
    "        document = document.replace(\"'\", \" \")\n",
    "\n",
    "        for t in self.lemmatizer(document):\n",
    "            if bool(re.match(\"[0-9]+\", t.lemma_))== False:\n",
    "                t = t.lemma_.strip()\n",
    "                t = t.translate(str.maketrans('', '', string.punctuation))\n",
    "                \n",
    "                if bool(t.isalpha())==True:\n",
    "                    if len(t) > 1 and len(t) < 20:\n",
    "                        t = self.Porter_Stemmer.stem(t)\n",
    "                        lemmas.append(t)\n",
    "\n",
    "        \n",
    "            \n",
    "        return lemmas\n",
    "    \n",
    "\n",
    "stopWords = sw.words('italian')\n",
    "stopWords.remove('ma')\n",
    "stopWords.remove('non')\n",
    "\n",
    "stopWords.extend(['avra', 'avro', 'sar', 'aver', 'com', 'contr', 'dar', 'esser', 'far', 'fec', 'foss', \n",
    "                  'lor', 'nostr', 'perc', 'qual', 'quant', 'quell', 'quest', 'star', 'stemm', \n",
    "                  'stess', 'stetter', 'tutt', 'vostr',\n",
    "                 \n",
    "                 'dio', 'neo', 'piu',\n",
    "                  \n",
    "                 'luned', 'marted', 'mercoled', 'gioved', 'venerd', 'sabat', 'domenic',\n",
    "                  \n",
    "                 'aglo', 'avere', 'avutare', 'avutere', 'dallare', 'ebbo', 'essere',\n",
    "                 'facciata', 'facere', 'fara', 'faro', 'farsene', 'fossa', 'fosso', 'mieo', 'perca',\n",
    "                 'sara', 'saro', 'stara', 'stare', 'stessa', 'staro', 'stesso', 'suoo', 'tuoo', 'aver',\n",
    "                 'avut', 'fac', 'facc', 'farse', 'nostr',\n",
    "                 \n",
    "                 'fars', 'farsen',\n",
    "                 \n",
    "                  'lorenz', 'anna', 'marc', 'francesc',\n",
    "\n",
    "                 'hotel', 'camer'])\n",
    "\n",
    "\n",
    "\n",
    "lemmaTokenizer = LemmaTokenizer()\n",
    "vectorizer = TfidfVectorizer(tokenizer=lemmaTokenizer, stop_words=stopWords, min_df=0.0005, \n",
    "                             strip_accents='unicode', lowercase=True, ngram_range=(1,3), sublinear_tf=True)\n"
   ]
  },
  {
   "cell_type": "code",
   "execution_count": 11,
   "metadata": {},
   "outputs": [
    {
     "data": {
      "text/plain": [
       "TfidfVectorizer(analyzer='word', binary=False, decode_error='strict',\n",
       "                dtype=<class 'numpy.float64'>, encoding='utf-8',\n",
       "                input='content', lowercase=True, max_df=1.0, max_features=None,\n",
       "                min_df=0.0005, ngram_range=(1, 3), norm='l2', preprocessor=None,\n",
       "                smooth_idf=True,\n",
       "                stop_words=['ad', 'al', 'allo', 'ai', 'agli', 'all', 'agl',\n",
       "                            'alla', 'alle', 'con', 'col', 'coi', 'da', 'dal',\n",
       "                            'dallo', 'dai', 'dagli', 'dall', 'dagl', 'dalla',\n",
       "                            'dalle', 'di', 'del', 'dello', 'dei', 'degli',\n",
       "                            'dell', 'degl', 'della', 'delle', ...],\n",
       "                strip_accents='unicode', sublinear_tf=True,\n",
       "                token_pattern='(?u)\\\\b\\\\w\\\\w+\\\\b',\n",
       "                tokenizer=<__main__.LemmaTokenizer object at 0x1a271f5bd0>,\n",
       "                use_idf=True, vocabulary=None)"
      ]
     },
     "execution_count": 11,
     "metadata": {},
     "output_type": "execute_result"
    }
   ],
   "source": [
    "vectorizer.fit(X_train)"
   ]
  },
  {
   "cell_type": "code",
   "execution_count": 21,
   "metadata": {},
   "outputs": [
    {
     "name": "stdout",
     "output_type": "stream",
     "text": [
      "20081\n"
     ]
    }
   ],
   "source": [
    "X_train = vectorizer.transform(X_train)\n",
    "print(len(vectorizer.get_feature_names()))"
   ]
  },
  {
   "cell_type": "markdown",
   "metadata": {},
   "source": [
    "###  Model selection and cross validation"
   ]
  },
  {
   "cell_type": "code",
   "execution_count": 29,
   "metadata": {},
   "outputs": [
    {
     "name": "stdout",
     "output_type": "stream",
     "text": [
      "Weighted-f1 for each iteration: [0.96758311 0.97102079 0.96126049 0.96186063 0.96682949]\n",
      "Weighted-f1 (statistics): 0.966 (+/- 0.007)\n"
     ]
    }
   ],
   "source": [
    "y_train = dataset.iloc[:, 1]\n",
    "\n",
    "clf = LogisticRegression(verbose=1, solver='liblinear',random_state=0, C=6, penalty='l2', max_iter=1000)\n",
    "\n",
    "cv_scores = cross_val_score(clf, X_train, y_train, cv=5, scoring='f1_weighted', n_jobs=-1)\n",
    "\n",
    "print_f1score(cv_scores)"
   ]
  },
  {
   "cell_type": "markdown",
   "metadata": {},
   "source": [
    "### Training and prediction"
   ]
  },
  {
   "cell_type": "code",
   "execution_count": 27,
   "metadata": {},
   "outputs": [],
   "source": [
    "Y_test = vectorizer.transform(testset.iloc[:,0])"
   ]
  },
  {
   "cell_type": "code",
   "execution_count": 28,
   "metadata": {},
   "outputs": [
    {
     "name": "stdout",
     "output_type": "stream",
     "text": [
      "[LibLinear]"
     ]
    },
    {
     "data": {
      "text/plain": [
       "(12323, 1)"
      ]
     },
     "execution_count": 28,
     "metadata": {},
     "output_type": "execute_result"
    }
   ],
   "source": [
    "clf.fit(X_train, y_train)\n",
    "y_pred = clf.predict(Y_test)\n",
    "testset.shape"
   ]
  },
  {
   "cell_type": "markdown",
   "metadata": {},
   "source": [
    "### Additional insights"
   ]
  },
  {
   "cell_type": "code",
   "execution_count": null,
   "metadata": {},
   "outputs": [],
   "source": []
  },
  {
   "cell_type": "markdown",
   "metadata": {},
   "source": [
    "### Writing the results"
   ]
  },
  {
   "cell_type": "code",
   "execution_count": 31,
   "metadata": {},
   "outputs": [],
   "source": [
    "write_to_file(\"Labels.csv\", y_pred)"
   ]
  }
 ],
 "metadata": {
  "kernelspec": {
   "display_name": "Python 3",
   "language": "python",
   "name": "python3"
  },
  "language_info": {
   "codemirror_mode": {
    "name": "ipython",
    "version": 3
   },
   "file_extension": ".py",
   "mimetype": "text/x-python",
   "name": "python",
   "nbconvert_exporter": "python",
   "pygments_lexer": "ipython3",
   "version": "3.7.5"
  }
 },
 "nbformat": 4,
 "nbformat_minor": 2
}
