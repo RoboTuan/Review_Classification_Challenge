{
 "cells": [
  {
   "cell_type": "markdown",
   "metadata": {},
   "source": [
    "## Import libraries"
   ]
  },
  {
   "cell_type": "code",
   "execution_count": 1,
   "metadata": {},
   "outputs": [],
   "source": [
    "# Numeric\n",
    "import numpy as np\n",
    "import pandas as pd\n",
    "from scipy import sparse\n",
    "\n",
    "\n",
    "# Tools\n",
    "import os, sys\n",
    "import re\n",
    "import string\n",
    "import csv\n",
    "import itertools\n",
    "\n",
    "\n",
    "# Natural language processing\n",
    "import spacy\n",
    "\n",
    "from nltk.tokenize import word_tokenize\n",
    "from nltk.stem.wordnet import WordNetLemmatizer\n",
    "from nltk.stem import PorterStemmer\n",
    "from nltk.corpus import stopwords as sw\n",
    "from nltk.stem.snowball import SnowballStemmer\n",
    "\n",
    "\n",
    "# Preprocessing and Features engineering\n",
    "from sklearn.preprocessing import StandardScaler\n",
    "from sklearn.preprocessing import MinMaxScaler\n",
    "from sklearn.preprocessing import MaxAbsScaler\n",
    "\n",
    "from sklearn.feature_extraction.text import TfidfVectorizer\n",
    "from sklearn.decomposition import TruncatedSVD\n",
    "from sklearn.decomposition import PCA\n",
    "\n",
    "\n",
    "\n",
    "# Clustering\n",
    "from sklearn.cluster import KMeans, DBSCAN, AgglomerativeClustering\n",
    "\n",
    "\n",
    "\n",
    "# Classifiers\n",
    "from sklearn.model_selection import GridSearchCV\n",
    "from sklearn.ensemble import RandomForestClassifier\n",
    "from sklearn.linear_model import LogisticRegression\n",
    "from sklearn.svm import SVC\n",
    "from sklearn.svm import LinearSVC\n",
    "from sklearn.naive_bayes import MultinomialNB\n",
    "from sklearn.naive_bayes import ComplementNB\n",
    "from sklearn.neighbors import NearestNeighbors\n",
    "from sklearn.pipeline import make_pipeline\n",
    "\n",
    "\n",
    "\n",
    "# Metrics\n",
    "from sklearn.metrics import accuracy_score\n",
    "from sklearn.metrics import precision_recall_fscore_support\n",
    "from sklearn.metrics import f1_score\n",
    "from sklearn.metrics import confusion_matrix\n",
    "\n",
    "from sklearn.model_selection import cross_val_predict\n",
    "from sklearn.model_selection import cross_val_score\n",
    "\n",
    "\n",
    "# Visualization\n",
    "from sklearn.manifold import TSNE\n",
    "import matplotlib.pyplot as plt\n",
    "import seaborn as sns\n",
    "%matplotlib inline\n",
    "\n"
   ]
  },
  {
   "cell_type": "markdown",
   "metadata": {},
   "source": [
    "## Some utility functions"
   ]
  },
  {
   "cell_type": "code",
   "execution_count": 2,
   "metadata": {},
   "outputs": [],
   "source": [
    "def print_i_th_review(data, text_column, index):\n",
    "    \"\"\"Print the i-th review\"\"\"\n",
    "    print(f\"Review: {data.loc[index, text_column]}\")\n",
    "    print()\n",
    "    print(f\"Class: {data.loc[index, 'class']}\")"
   ]
  },
  {
   "cell_type": "code",
   "execution_count": 3,
   "metadata": {},
   "outputs": [],
   "source": [
    "def print_score(scores, type_of_score):\n",
    "    \"\"\"Pritn the evaluated scores, their mean and standard deviation.\"\"\"\n",
    "    print(f\"{type_of_score} for each iteration: {scores}\")\n",
    "    mean = scores.mean()\n",
    "    std = scores.std() * 2\n",
    "    print(f\"{type_of_score} (statistics): {mean:.3f} (+/- {std:.3f})\")"
   ]
  },
  {
   "cell_type": "code",
   "execution_count": 4,
   "metadata": {},
   "outputs": [],
   "source": [
    "def print_top_n_words(data, text_column, n, save_image=False):\n",
    "    \"\"\"Plot the top n words in the pandas\"\"\"\n",
    "    elements = pd.Series(\" \".join(data[text_column]).lower().split()).value_counts()\n",
    "\n",
    "    top_n = n\n",
    "    \n",
    "    fig, ax = plt.subplots(figsize=(10, 10))\n",
    "    ax.barh(elements.index[:top_n], elements[:top_n], align='center')\n",
    "    ax.set_title(f\"Most frequent {top_n} words\")\n",
    "    plt.gca().invert_yaxis()\n",
    "    \n",
    "    if save_image == True:\n",
    "        fig.savefig('Images/dataExploration')\n",
    "    \n",
    "    plt.show()"
   ]
  },
  {
   "cell_type": "code",
   "execution_count": 5,
   "metadata": {},
   "outputs": [],
   "source": [
    "def write_to_file(filename, labels):\n",
    "    \"\"\"Write the evaluated labels to a CSV file.\"\"\"\n",
    "    with open(filename, mode='w', encoding='UTF-8') as f:\n",
    "        fwriter = csv.writer(f, delimiter=',', quotechar='\"', quoting=csv.QUOTE_MINIMAL)\n",
    "        fwriter.writerow([\"Id\", \"Predicted\"])\n",
    "        for Id, label in enumerate(labels):\n",
    "            fwriter.writerow([Id, label])"
   ]
  },
  {
   "cell_type": "markdown",
   "metadata": {},
   "source": [
    "## Read data"
   ]
  },
  {
   "cell_type": "code",
   "execution_count": 6,
   "metadata": {
    "scrolled": false
   },
   "outputs": [
    {
     "name": "stdout",
     "output_type": "stream",
     "text": [
      "28754\n"
     ]
    },
    {
     "data": {
      "text/html": [
       "<div>\n",
       "<style scoped>\n",
       "    .dataframe tbody tr th:only-of-type {\n",
       "        vertical-align: middle;\n",
       "    }\n",
       "\n",
       "    .dataframe tbody tr th {\n",
       "        vertical-align: top;\n",
       "    }\n",
       "\n",
       "    .dataframe thead th {\n",
       "        text-align: right;\n",
       "    }\n",
       "</style>\n",
       "<table border=\"1\" class=\"dataframe\">\n",
       "  <thead>\n",
       "    <tr style=\"text-align: right;\">\n",
       "      <th></th>\n",
       "      <th>text</th>\n",
       "      <th>class</th>\n",
       "    </tr>\n",
       "  </thead>\n",
       "  <tbody>\n",
       "    <tr>\n",
       "      <td>0</td>\n",
       "      <td>Non è l'hotel più lussuoso in cui abbia mai so...</td>\n",
       "      <td>pos</td>\n",
       "    </tr>\n",
       "    <tr>\n",
       "      <td>1</td>\n",
       "      <td>Siamo stati qui per 1 notte prima della nostra...</td>\n",
       "      <td>pos</td>\n",
       "    </tr>\n",
       "    <tr>\n",
       "      <td>2</td>\n",
       "      <td>Hotel è ben posizionato per visitare Torino. A...</td>\n",
       "      <td>pos</td>\n",
       "    </tr>\n",
       "    <tr>\n",
       "      <td>3</td>\n",
       "      <td>All'arrivo la cordialità e disponibilità dello...</td>\n",
       "      <td>pos</td>\n",
       "    </tr>\n",
       "    <tr>\n",
       "      <td>4</td>\n",
       "      <td>Abbiamo soggiornato per due notti alla fine de...</td>\n",
       "      <td>pos</td>\n",
       "    </tr>\n",
       "  </tbody>\n",
       "</table>\n",
       "</div>"
      ],
      "text/plain": [
       "                                                text class\n",
       "0  Non è l'hotel più lussuoso in cui abbia mai so...   pos\n",
       "1  Siamo stati qui per 1 notte prima della nostra...   pos\n",
       "2  Hotel è ben posizionato per visitare Torino. A...   pos\n",
       "3  All'arrivo la cordialità e disponibilità dello...   pos\n",
       "4  Abbiamo soggiornato per due notti alla fine de...   pos"
      ]
     },
     "execution_count": 6,
     "metadata": {},
     "output_type": "execute_result"
    }
   ],
   "source": [
    "directory = \"/Users/lpdef/Desktop/Polito/Data Science lab process and methods/Final Exam/dataset_winter_2020/\"\n",
    "dataset = pd.read_csv(directory + \"development.csv\")\n",
    "testset = pd.read_csv(directory + \"evaluation.csv\")\n",
    "\n",
    "print(dataset.iloc[:,0].size)\n",
    "dataset.head()"
   ]
  },
  {
   "cell_type": "code",
   "execution_count": 7,
   "metadata": {},
   "outputs": [
    {
     "name": "stdout",
     "output_type": "stream",
     "text": [
      "The ratio between the number of positive and negative reviews is:  2.12\n"
     ]
    }
   ],
   "source": [
    "pos = dataset.loc[(dataset['class']=='pos'),:].shape[0]\n",
    "neg = dataset.loc[(dataset['class']=='neg'),:].shape[0]\n",
    "print(f\"The ratio between the number of positive and negative reviews is: {pos/neg: .2f}\")"
   ]
  },
  {
   "cell_type": "code",
   "execution_count": 8,
   "metadata": {},
   "outputs": [
    {
     "data": {
      "image/png": "[encoded data removed]",
      "text/plain": [
       "<Figure size 720x720 with 1 Axes>"
      ]
     },
     "metadata": {
      "needs_background": "light"
     },
     "output_type": "display_data"
    }
   ],
   "source": [
    "print_top_n_words(dataset, 'text', 30, save_image=True)"
   ]
  },
  {
   "cell_type": "code",
   "execution_count": 9,
   "metadata": {},
   "outputs": [
    {
     "name": "stdout",
     "output_type": "stream",
     "text": [
      "Review: Albergo molto bello, non si può dire lo stesso della vista su molo beverello. Non tutto il personale è meritevole di un buon giudizio. La stanza puzzava molto di fumo di sigaretta, non appena l'abbiamo evidenziato alla ragazza che ci accompagnati ha esclamato' forse ha fumato una sigaretta prima di entrare ,  il ragazzo che portava le valigie. Volete accertarvi prima?  Prima di cena abbiamo ordinato un aperitivo, tra l'altro incluso nel pacchetto, abbiamo atteso circa 30 minuti il barmann che chiacchierava con altri ospiti, senza curarsi di noi, abbiamo sollecitato considerata la prenotazione per cena in un altro ristorante.La cosa più sgradevole? Il giorno in cui dovevamo lasciare la stanza alle 11:50 ( orario previsto check out 12:00) squilla il telefono per dire che avremmo dovuto lasciare la stanza NB stavamo per uscire . Assurdo se paghi quasi 400 euro. Per il resto qualcuno gentile c'era, come le ragazze della colazione e della spa.\n",
      "\n",
      "Class: pos\n"
     ]
    }
   ],
   "source": [
    "print_i_th_review(dataset, 'text', 24)"
   ]
  },
  {
   "cell_type": "code",
   "execution_count": 10,
   "metadata": {},
   "outputs": [],
   "source": [
    "X_train = dataset.iloc[:,0]\n",
    "y_train = dataset.iloc[:, 1]"
   ]
  },
  {
   "cell_type": "markdown",
   "metadata": {},
   "source": [
    "## Features engineering"
   ]
  },
  {
   "cell_type": "code",
   "execution_count": 11,
   "metadata": {},
   "outputs": [],
   "source": [
    "nlp = spacy.load(\"it_core_news_sm\", disable=[\"ner\", \"parser\", \"tagger\", \"textcat\"])\n",
    "# spacy_stopWords = spacy.lang.it.stop_words.STOP_WORDS"
   ]
  },
  {
   "cell_type": "code",
   "execution_count": 12,
   "metadata": {},
   "outputs": [],
   "source": [
    "stopWords = sw.words('italian')\n",
    "stopWords.remove('ma')\n",
    "# stopWords.remove('molt')\n",
    "stopWords.remove('non')\n",
    "\n",
    "stopWords.extend([   \n",
    "                   # Months\n",
    "#                    'gennai', 'febbrai', 'marz', 'april', 'magg', 'giugn', 'agost', 'settembr', 'ottobr', 'novembr', 'dicembr',\n",
    "\n",
    "                 # Warning-generated and misspelled stopwords\n",
    "                   'avra', 'avro', 'aver', 'com', 'contr', 'esser', 'fac', 'facc', 'far', 'foss','lor',\n",
    "                   'nostr', 'perc', 'qual', 'quant', 'quell', 'quest', 'sar', 'star', 'stess','tutt',\n",
    "                   'vostr', 'dar',\n",
    "                   'hotel',\n",
    "    \n",
    "                    # Some common names\n",
    "#                    'lorenz', 'anna', 'marc', 'francesc',\n",
    "    \n",
    "                    # Exclude the days of the week\n",
    "                   'luned','marted','mercoled','gioved','venerd','sabat','domenic',\n",
    "                 ]) \n",
    "\n"
   ]
  },
  {
   "cell_type": "code",
   "execution_count": 13,
   "metadata": {},
   "outputs": [],
   "source": [
    "\n",
    "minDF = 0.0005\n",
    "maxDf = 0.80\n",
    "\n",
    "\n",
    "class LemmaTokenizer(object):\n",
    "    \n",
    "    def __init__(self):\n",
    "        self.lemmatizer = spacy.load(\"it_core_news_sm\", disable=[\"ner\", \"parser\", \"tagger\", \"textcat\"])\n",
    "        self.Stemmer = SnowballStemmer(\"italian\")\n",
    "        \n",
    "        \n",
    "    def __call__(self, document):\n",
    "        lemmas = []\n",
    "        re_digit = re.compile(\"[0-9]+\")\n",
    "        document = document.replace(\"'\", \" \")\n",
    "\n",
    "        for t in self.lemmatizer(document):\n",
    "            if not re_digit.match(t.lemma_):\n",
    "                t = t.lemma_.strip()\n",
    "                t = t.translate(str.maketrans('', '', string.punctuation))\n",
    "                \n",
    "                if bool(t.isalpha()) == True and len(t) > 1 and len(t) <= 16:\n",
    "                    t = self.Stemmer.stem(t)\n",
    "                    lemmas.append(t)\n",
    "\n",
    "        \n",
    "            \n",
    "        return lemmas\n",
    "\n",
    "\n",
    "lemmaTokenizer = LemmaTokenizer()\n",
    "vectorizer = TfidfVectorizer(tokenizer=lemmaTokenizer, stop_words=stopWords, min_df=minDF, max_df=maxDf,\n",
    "                             strip_accents='unicode', lowercase=True, ngram_range=(1,3), sublinear_tf=True)\n"
   ]
  },
  {
   "cell_type": "code",
   "execution_count": 14,
   "metadata": {},
   "outputs": [
    {
     "name": "stderr",
     "output_type": "stream",
     "text": [
      "/Users/lpdef/opt/anaconda3/lib/python3.7/site-packages/sklearn/feature_extraction/text.py:300: UserWarning: Your stop_words may be inconsistent with your preprocessing. Tokenizing the stop words generated tokens ['dio', 'fec', 'neo', 'piu', 'stemm', 'stetter'] not in stop_words.\n",
      "  'stop_words.' % sorted(inconsistent))\n"
     ]
    },
    {
     "data": {
      "text/plain": [
       "TfidfVectorizer(analyzer='word', binary=False, decode_error='strict',\n",
       "                dtype=<class 'numpy.float64'>, encoding='utf-8',\n",
       "                input='content', lowercase=True, max_df=0.8, max_features=None,\n",
       "                min_df=0.0005, ngram_range=(1, 3), norm='l2', preprocessor=None,\n",
       "                smooth_idf=True,\n",
       "                stop_words=['ad', 'al', 'allo', 'ai', 'agli', 'all', 'agl',\n",
       "                            'alla', 'alle', 'con', 'col', 'coi', 'da', 'dal',\n",
       "                            'dallo', 'dai', 'dagli', 'dall', 'dagl', 'dalla',\n",
       "                            'dalle', 'di', 'del', 'dello', 'dei', 'degli',\n",
       "                            'dell', 'degl', 'della', 'delle', ...],\n",
       "                strip_accents='unicode', sublinear_tf=True,\n",
       "                token_pattern='(?u)\\\\b\\\\w\\\\w+\\\\b',\n",
       "                tokenizer=<__main__.LemmaTokenizer object at 0x1a3b69fa50>,\n",
       "                use_idf=True, vocabulary=None)"
      ]
     },
     "execution_count": 14,
     "metadata": {},
     "output_type": "execute_result"
    }
   ],
   "source": [
    "vectorizer.fit(X_train)"
   ]
  },
  {
   "cell_type": "code",
   "execution_count": 15,
   "metadata": {},
   "outputs": [],
   "source": [
    "X_train = vectorizer.transform(X_train)\n",
    "# print(len(vectorizer.get_feature_names()))"
   ]
  },
  {
   "cell_type": "code",
   "execution_count": 16,
   "metadata": {},
   "outputs": [
    {
     "data": {
      "image/png": "[encoded data removed]",
      "text/plain": [
       "<Figure size 720x720 with 1 Axes>"
      ]
     },
     "metadata": {
      "needs_background": "light"
     },
     "output_type": "display_data"
    }
   ],
   "source": [
    "words = np.array(vectorizer.get_feature_names())\n",
    "weigths = X_train.toarray().mean(axis = 0)\n",
    "sorted_index = np.argsort(weigths)[::-1]\n",
    "\n",
    "\n",
    "fig, ax = plt.subplots(figsize=(10, 10))\n",
    "ax.barh(words[sorted_index[:30]], weigths[sorted_index[:30]], align='center')\n",
    "plt.gca().invert_yaxis()\n",
    "ax.set_title(f\"Tf-Idf features\")\n",
    "fig.savefig('Images/dataExplorationAfterTfIdf')\n",
    "plt.show()"
   ]
  },
  {
   "cell_type": "code",
   "execution_count": 17,
   "metadata": {},
   "outputs": [],
   "source": [
    "# for i in range(weigths.shape[0]):\n",
    "#     print(words[sorted_index[i]], \": \", weigths[sorted_index[i]])\n",
    "\n",
    "# 0.0001\n",
    "# 0.00005"
   ]
  },
  {
   "cell_type": "markdown",
   "metadata": {},
   "source": [
    "### Trying to lower the dimension with only the features that have a certain mean of the tf-idf"
   ]
  },
  {
   "cell_type": "code",
   "execution_count": 18,
   "metadata": {},
   "outputs": [],
   "source": [
    "# dense_X_train = X_train.toarray()\n",
    "\n",
    "# df_train = pd.DataFrame(dense_X_train, columns=vectorizer.get_feature_names())\n",
    "# df_train = df_train.loc[:, (df_train.mean() > 0.0001)]\n",
    "\n",
    "# final_features = df_train.columns"
   ]
  },
  {
   "cell_type": "code",
   "execution_count": 19,
   "metadata": {},
   "outputs": [],
   "source": [
    "# Sparse_X = sparse.csr_matrix(df_train.to_numpy())\n",
    "# Sparse_X"
   ]
  },
  {
   "cell_type": "markdown",
   "metadata": {},
   "source": [
    "##  Model selection and cross validation"
   ]
  },
  {
   "cell_type": "markdown",
   "metadata": {},
   "source": [
    "### Random forest"
   ]
  },
  {
   "cell_type": "code",
   "execution_count": 20,
   "metadata": {},
   "outputs": [
    {
     "name": "stdout",
     "output_type": "stream",
     "text": [
      "{'n_estimators': 150}\n"
     ]
    }
   ],
   "source": [
    "RanFor_model =  RandomForestClassifier(n_estimators=100, random_state=0, n_jobs=-1)\n",
    "\n",
    "param_grid = {'n_estimators': [50, 100, 150]}\n",
    "\n",
    "gridSearch = GridSearchCV(RanFor_model, param_grid, scoring='f1_weighted', cv=5, n_jobs=-1)\n",
    "\n",
    "gridSearch.fit(X_train, y_train)\n",
    "\n",
    "print(gridSearch.best_params_)"
   ]
  },
  {
   "cell_type": "code",
   "execution_count": 21,
   "metadata": {},
   "outputs": [
    {
     "name": "stdout",
     "output_type": "stream",
     "text": [
      "f1_weighted for each iteration: [0.9445667  0.94344358 0.93785065 0.94301251 0.94367865]\n",
      "f1_weighted (statistics): 0.943 (+/- 0.005)\n"
     ]
    }
   ],
   "source": [
    "RanFor_model = gridSearch.best_estimator_\n",
    "\n",
    "type_of_score = \"f1_weighted\"\n",
    "\n",
    "cv_scores = cross_val_score(RanFor_model, X_train, y_train, cv=5, scoring=type_of_score, n_jobs=-1)\n",
    "\n",
    "print_score(cv_scores, type_of_score)"
   ]
  },
  {
   "cell_type": "markdown",
   "metadata": {},
   "source": [
    "### Naive Bayes (Multinomial Naive Bayes)"
   ]
  },
  {
   "cell_type": "code",
   "execution_count": 22,
   "metadata": {},
   "outputs": [
    {
     "name": "stdout",
     "output_type": "stream",
     "text": [
      "f1_weighted for each iteration: [0.96352246 0.96447614 0.95434626 0.96073994 0.96223232]\n",
      "f1_weighted (statistics): 0.961 (+/- 0.007)\n"
     ]
    }
   ],
   "source": [
    "NBmul_model = MultinomialNB()\n",
    "\n",
    "type_of_score = \"f1_weighted\"\n",
    "\n",
    "cv_scores = cross_val_score(NBmul_model, X_train, y_train, cv=5, scoring=type_of_score, n_jobs=-1)\n",
    "\n",
    "print_score(cv_scores, type_of_score)"
   ]
  },
  {
   "cell_type": "markdown",
   "metadata": {},
   "source": [
    "### Naive Bayes (Complement Naive Bayes)"
   ]
  },
  {
   "cell_type": "code",
   "execution_count": 23,
   "metadata": {},
   "outputs": [
    {
     "name": "stdout",
     "output_type": "stream",
     "text": [
      "f1_weighted for each iteration: [0.96064743 0.95660873 0.95021775 0.95321259 0.95574343]\n",
      "f1_weighted (statistics): 0.955 (+/- 0.007)\n"
     ]
    }
   ],
   "source": [
    "NBcom_model = ComplementNB()\n",
    "\n",
    "type_of_score = \"f1_weighted\"\n",
    "\n",
    "cv_scores = cross_val_score(NBcom_model, X_train, y_train, cv=5, scoring=type_of_score, n_jobs=-1)\n",
    "\n",
    "print_score(cv_scores, type_of_score)"
   ]
  },
  {
   "cell_type": "markdown",
   "metadata": {},
   "source": [
    "### Support vector Machines"
   ]
  },
  {
   "cell_type": "code",
   "execution_count": 24,
   "metadata": {},
   "outputs": [
    {
     "name": "stdout",
     "output_type": "stream",
     "text": [
      "{'C': 1, 'fit_intercept': False, 'loss': 'hinge'}\n"
     ]
    }
   ],
   "source": [
    "SVM_model = LinearSVC(random_state=0, penalty=\"l2\")\n",
    "\n",
    "param_grid = {'loss': ['hinge', 'squared_hinge'], 'fit_intercept': [True, False], 'C': list(range(1,10,2))}\n",
    "\n",
    "gridSearch = GridSearchCV(SVM_model, param_grid, scoring='f1_weighted', cv=5, n_jobs=-1)\n",
    "\n",
    "gridSearch.fit(X_train, y_train)\n",
    "\n",
    "print(gridSearch.best_params_)"
   ]
  },
  {
   "cell_type": "code",
   "execution_count": 25,
   "metadata": {},
   "outputs": [
    {
     "name": "stdout",
     "output_type": "stream",
     "text": [
      "f1_weighted for each iteration: [0.96971027 0.97173198 0.96395046 0.96622677 0.96686944]\n",
      "f1_weighted (statistics): 0.968 (+/- 0.005)\n"
     ]
    }
   ],
   "source": [
    "SVM_model = gridSearch.best_estimator_\n",
    "\n",
    "type_of_score = \"f1_weighted\"\n",
    "\n",
    "cv_scores = cross_val_score(SVM_model, X_train, y_train, cv=5, scoring=type_of_score, n_jobs=-1)\n",
    "\n",
    "print_score(cv_scores, type_of_score)"
   ]
  },
  {
   "cell_type": "markdown",
   "metadata": {},
   "source": [
    "### Logistic regression"
   ]
  },
  {
   "cell_type": "code",
   "execution_count": 26,
   "metadata": {},
   "outputs": [
    {
     "name": "stdout",
     "output_type": "stream",
     "text": [
      "{'C': 8, 'fit_intercept': False, 'max_iter': 500, 'solver': 'liblinear'}\n"
     ]
    }
   ],
   "source": [
    "logReg_model = LogisticRegression(penalty='l2', random_state=0)\n",
    "\n",
    "param_grid = {'C':list(range(4,10,2)), 'solver': ['liblinear', 'sag', 'saga'], 'fit_intercept':[True, False],\n",
    "               'max_iter':[500, 1000, 1500]}\n",
    "\n",
    "gridSearch = GridSearchCV(logReg_model, param_grid, scoring='f1_weighted', cv=5, n_jobs=-1)\n",
    "\n",
    "gridSearch.fit(X_train, y_train)\n",
    "\n",
    "print(gridSearch.best_params_)"
   ]
  },
  {
   "cell_type": "code",
   "execution_count": 27,
   "metadata": {},
   "outputs": [
    {
     "name": "stdout",
     "output_type": "stream",
     "text": [
      "f1_weighted for each iteration: [0.97091817 0.97121938 0.9632049  0.96377896 0.9696366 ]\n",
      "f1_weighted (statistics): 0.968 (+/- 0.007)\n"
     ]
    }
   ],
   "source": [
    "logReg_model = gridSearch.best_estimator_\n",
    "\n",
    "type_of_score = \"f1_weighted\"\n",
    "\n",
    "cv_scores = cross_val_score(logReg_model, X_train, y_train, cv=5, scoring=type_of_score, n_jobs=-1)\n",
    "\n",
    "print_score(cv_scores, type_of_score)"
   ]
  },
  {
   "cell_type": "markdown",
   "metadata": {},
   "source": [
    "## Training and prediction"
   ]
  },
  {
   "cell_type": "code",
   "execution_count": 28,
   "metadata": {},
   "outputs": [],
   "source": [
    "X_test = vectorizer.transform(testset.iloc[:,0])"
   ]
  },
  {
   "cell_type": "code",
   "execution_count": 29,
   "metadata": {},
   "outputs": [],
   "source": [
    "# df_test = pd.DataFrame(X_test.toarray(), columns=vectorizer.get_feature_names())\n",
    "# df_test = df_test[final_features]"
   ]
  },
  {
   "cell_type": "code",
   "execution_count": 30,
   "metadata": {},
   "outputs": [],
   "source": [
    "# Sparse_X_test = sparse.csr_matrix(df_test.to_numpy())"
   ]
  },
  {
   "cell_type": "code",
   "execution_count": 31,
   "metadata": {},
   "outputs": [],
   "source": [
    "logReg_model.fit(X_train, y_train)\n",
    "y_pred_test = logReg_model.predict(X_test)\n",
    "# testset.shape"
   ]
  },
  {
   "cell_type": "code",
   "execution_count": 32,
   "metadata": {},
   "outputs": [
    {
     "data": {
      "text/html": [
       "<style  type=\"text/css\" >\n",
       "    #T_2e0c6a54_3fa4_11ea_aa3a_4c32759a93ddrow0_col0 {\n",
       "            background-color:  #67000d;\n",
       "            color:  #f1f1f1;\n",
       "        }    #T_2e0c6a54_3fa4_11ea_aa3a_4c32759a93ddrow0_col1 {\n",
       "            background-color:  #fff5f0;\n",
       "            color:  #000000;\n",
       "        }    #T_2e0c6a54_3fa4_11ea_aa3a_4c32759a93ddrow1_col0 {\n",
       "            background-color:  #fff5f0;\n",
       "            color:  #000000;\n",
       "        }    #T_2e0c6a54_3fa4_11ea_aa3a_4c32759a93ddrow1_col1 {\n",
       "            background-color:  #67000d;\n",
       "            color:  #f1f1f1;\n",
       "        }</style><table id=\"T_2e0c6a54_3fa4_11ea_aa3a_4c32759a93dd\" ><thead>    <tr>        <th class=\"blank\" ></th>        <th class=\"blank level0\" ></th>        <th class=\"col_heading level0 col0\" colspan=2>Predicted</th>    </tr>    <tr>        <th class=\"blank\" ></th>        <th class=\"blank level1\" ></th>        <th class=\"col_heading level1 col0\" >Pos</th>        <th class=\"col_heading level1 col1\" >Neg</th>    </tr></thead><tbody>\n",
       "                <tr>\n",
       "                        <th id=\"T_2e0c6a54_3fa4_11ea_aa3a_4c32759a93ddlevel0_row0\" class=\"row_heading level0 row0\" rowspan=2>Actual</th>\n",
       "                        <th id=\"T_2e0c6a54_3fa4_11ea_aa3a_4c32759a93ddlevel1_row0\" class=\"row_heading level1 row0\" >Pos</th>\n",
       "                        <td id=\"T_2e0c6a54_3fa4_11ea_aa3a_4c32759a93ddrow0_col0\" class=\"data row0 col0\" >9153</td>\n",
       "                        <td id=\"T_2e0c6a54_3fa4_11ea_aa3a_4c32759a93ddrow0_col1\" class=\"data row0 col1\" >69</td>\n",
       "            </tr>\n",
       "            <tr>\n",
       "                                <th id=\"T_2e0c6a54_3fa4_11ea_aa3a_4c32759a93ddlevel1_row1\" class=\"row_heading level1 row1\" >Neg</th>\n",
       "                        <td id=\"T_2e0c6a54_3fa4_11ea_aa3a_4c32759a93ddrow1_col0\" class=\"data row1 col0\" >37</td>\n",
       "                        <td id=\"T_2e0c6a54_3fa4_11ea_aa3a_4c32759a93ddrow1_col1\" class=\"data row1 col1\" >19495</td>\n",
       "            </tr>\n",
       "    </tbody></table>"
      ],
      "text/plain": [
       "<pandas.io.formats.style.Styler at 0x1a39e28150>"
      ]
     },
     "execution_count": 32,
     "metadata": {},
     "output_type": "execute_result"
    }
   ],
   "source": [
    "y_pred = logReg_model.predict(X_train)\n",
    "\n",
    "conf_mat = confusion_matrix(y_train, y_pred)\n",
    "\n",
    "Index= [['Actual', 'Actual'],['Pos', 'Neg']]\n",
    "Cols = [['Predicted', 'Predicted'],['Pos', 'Neg']]\n",
    "\n",
    "df = pd.DataFrame(conf_mat, index=Index, columns=Cols)\n",
    "\n",
    "df.style.background_gradient(cmap='Reds')"
   ]
  },
  {
   "cell_type": "code",
   "execution_count": 33,
   "metadata": {},
   "outputs": [
    {
     "name": "stdout",
     "output_type": "stream",
     "text": [
      "Total misclassified reviews: 106\n"
     ]
    }
   ],
   "source": [
    "# count = 0;\n",
    "# for i, label in enumerate(y_pred):\n",
    "#     if y_train[i] is not label:\n",
    "#         count = count + 1\n",
    "# #         print(i,y_train[i],label)\n",
    "\n",
    "print(f\"Total misclassified reviews: {df.iloc[1,0]+df.iloc[0,1]}\")\n",
    "\n",
    "# print()\n",
    "# print(count)"
   ]
  },
  {
   "cell_type": "markdown",
   "metadata": {},
   "source": [
    "## Writing the results"
   ]
  },
  {
   "cell_type": "code",
   "execution_count": 34,
   "metadata": {},
   "outputs": [],
   "source": [
    "write_to_file(\"Labels.csv\", y_pred_test)"
   ]
  }
 ],
 "metadata": {
  "kernelspec": {
   "display_name": "Python 3",
   "language": "python",
   "name": "python3"
  },
  "language_info": {
   "codemirror_mode": {
    "name": "ipython",
    "version": 3
   },
   "file_extension": ".py",
   "mimetype": "text/x-python",
   "name": "python",
   "nbconvert_exporter": "python",
   "pygments_lexer": "ipython3",
   "version": "3.7.5"
  }
 },
 "nbformat": 4,
 "nbformat_minor": 2
}
